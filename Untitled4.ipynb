{
 "cells": [
  {
   "cell_type": "code",
   "execution_count": 3,
   "metadata": {},
   "outputs": [
    {
     "name": "stdout",
     "output_type": "stream",
     "text": [
      "   Id first_name company address\n",
      "0  11          A      aa     hyd\n",
      "1  12          B      bb     hyd\n",
      "2  13          C      cc     hyd\n",
      "3  14          D      dd     hyd\n",
      "4  15          E      ee     hyd\n"
     ]
    }
   ],
   "source": [
    "import pandas as pd\n",
    "dt={\"Id\":[11,12,13,14,15],\n",
    "  \"first_name\":[\"A\",\"B\",\"C\",\"D\",\"E\"],\n",
    " \"company\":[\"aa\",\"bb\",\"cc\",\"dd\",\"ee\"],\n",
    " \"address\":[\"hyd\",\"hyd\",\"hyd\",\"hyd\",\"hyd\"]}\n",
    "mydt=pd.DataFrame(dt)\n",
    "print(mydt)\n"
   ]
  },
  {
   "cell_type": "code",
   "execution_count": null,
   "metadata": {},
   "outputs": [],
   "source": []
  }
 ],
 "metadata": {
  "kernelspec": {
   "display_name": "Python 3",
   "language": "python",
   "name": "python3"
  },
  "language_info": {
   "codemirror_mode": {
    "name": "ipython",
    "version": 3
   },
   "file_extension": ".py",
   "mimetype": "text/x-python",
   "name": "python",
   "nbconvert_exporter": "python",
   "pygments_lexer": "ipython3",
   "version": "3.7.3"
  }
 },
 "nbformat": 4,
 "nbformat_minor": 2
}
