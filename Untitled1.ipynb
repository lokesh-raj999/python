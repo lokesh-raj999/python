{
 "cells": [
  {
   "cell_type": "code",
   "execution_count": 2,
   "metadata": {},
   "outputs": [
    {
     "name": "stdout",
     "output_type": "stream",
     "text": [
      "[1, 8, 16, 9, 2]\n",
      "1\n",
      "2\n",
      "[8, 16, 9, 2]\n",
      "[2]\n",
      "[8, 16, 9]\n"
     ]
    }
   ],
   "source": [
    "lst = [1,8,16,9,2]\n",
    "print(lst)\n",
    "print(lst[0])\n",
    "print(lst[-1])\n",
    "print(lst[1::])\n",
    "print(lst[-1::])\n",
    "print(lst[1:4])"
   ]
  },
  {
   "cell_type": "code",
   "execution_count": 3,
   "metadata": {},
   "outputs": [
    {
     "name": "stdout",
     "output_type": "stream",
     "text": [
      "['rohith', 'hyderabad', 2002, 666]\n",
      "['rohith', 'hyderabad', 789456123, 666]\n"
     ]
    }
   ],
   "source": [
    "li=[\"rohith\",\"hyderabad\",2002,666]\n",
    "print(li)\n",
    "li[2]=789456123\n",
    "print(li)"
   ]
  },
  {
   "cell_type": "code",
   "execution_count": 4,
   "metadata": {},
   "outputs": [
    {
     "name": "stdout",
     "output_type": "stream",
     "text": [
      "6\n",
      "(1, 2, 3, 4, 5, 6, 1, 2, 3, 4, 5, 6)\n",
      "False\n",
      "True\n"
     ]
    }
   ],
   "source": [
    "lst1=(1,2,3,4,5,6)\n",
    "print(len(lst1))\n",
    "print(lst1*2)\n",
    "print(15 in lst1)\n",
    "print(5 in lst1)"
   ]
  },
  {
   "cell_type": "code",
   "execution_count": 5,
   "metadata": {},
   "outputs": [
    {
     "name": "stdout",
     "output_type": "stream",
     "text": [
      "(1, 2, 3, 4, 5, 6)\n",
      "1\n",
      "6\n",
      "21\n",
      "3\n",
      "4.0\n"
     ]
    }
   ],
   "source": [
    "lst1\n",
    "print(lst1)\n",
    "print(min(lst1))  # Min element of the list\n",
    "print(max(lst1))  # Max element of the list\n",
    "print(sum(lst1))  # Sum of the all elements of the list\n",
    "print(sum(lst1)//len(lst1)) # Average of the list\n",
    "print(sum(lst1[1::2])/len(lst1[1::2]))"
   ]
  },
  {
   "cell_type": "code",
   "execution_count": 6,
   "metadata": {},
   "outputs": [
    {
     "name": "stdout",
     "output_type": "stream",
     "text": [
      "1 9 19 22 "
     ]
    }
   ],
   "source": [
    "def linearsearch6(li):\n",
    "    for x in range (len(li)):\n",
    "        if x == 0 or x == len(li) -1:\n",
    "            print(li[x],end=\" \")\n",
    "        elif li[x-1]%2 ==0 and li[x+1]%2 == 0:\n",
    "            print(li[x],end=\" \")\n",
    "    return\n",
    "li=[1,6,9,4,16,19,22]\n",
    "linearsearch6(li)"
   ]
  },
  {
   "cell_type": "code",
   "execution_count": 7,
   "metadata": {},
   "outputs": [
    {
     "name": "stdout",
     "output_type": "stream",
     "text": [
      "1 4 8 "
     ]
    }
   ],
   "source": [
    "# function \n",
    "def linearsearch2(li,tarItem):\n",
    "    for x in range(len(li)):\n",
    "        if li[x] == tarItem:\n",
    "            print(x,end=\" \")\n",
    "    return \n",
    "li =[1,5,9,6,5,15,185,273,5]\n",
    "linearsearch2(li,5)"
   ]
  },
  {
   "cell_type": "code",
   "execution_count": 8,
   "metadata": {},
   "outputs": [
    {
     "data": {
      "text/plain": [
       "1"
      ]
     },
     "execution_count": 8,
     "metadata": {},
     "output_type": "execute_result"
    }
   ],
   "source": [
    "#function to search the data in the list \n",
    "# search is found then the return the index if not then return -1\n",
    "def linearsearch1(li,tarItem):\n",
    "    for x in range(len(li)):\n",
    "        if li[x] == tarItem:\n",
    "            return x\n",
    "    return -1\n",
    "li =[1,19,6,2,8,18,3]\n",
    "linearsearch1(li,19)"
   ]
  },
  {
   "cell_type": "code",
   "execution_count": 9,
   "metadata": {},
   "outputs": [
    {
     "name": "stdout",
     "output_type": "stream",
     "text": [
      "!! !!!!! !!!!!!!!! "
     ]
    }
   ],
   "source": [
    "#function\n",
    "def linearsearch3(li,tarItem):\n",
    "    for x in range(len(li)):\n",
    "        if li[x] == tarItem:\n",
    "            j=0\n",
    "            while j != x+1:\n",
    "                print(\"!\",end=\"\")\n",
    "                j= j+1\n",
    "            print(end=\" \")\n",
    "    return\n",
    "li =[1,5,9,6,5,15,1,2,5]\n",
    "linearsearch3(li,5)"
   ]
  },
  {
   "cell_type": "code",
   "execution_count": 10,
   "metadata": {},
   "outputs": [
    {
     "name": "stdout",
     "output_type": "stream",
     "text": [
      "1 9 19 22 "
     ]
    }
   ],
   "source": [
    "def linearsearch6(li):\n",
    "    for x in range (len(li)):\n",
    "        if x == 0 or x == len(li) -1:\n",
    "            print(li[x],end=\" \")\n",
    "        elif li[x-1]%2 ==0 and li[x+1]%2 == 0:\n",
    "            print(li[x],end=\" \")\n",
    "    return\n",
    "li=[1,6,9,4,16,19,22]\n",
    "linearsearch6(li)"
   ]
  },
  {
   "cell_type": "code",
   "execution_count": 11,
   "metadata": {},
   "outputs": [
    {
     "data": {
      "text/plain": [
       "[1, 4, 5, 6, 9]"
      ]
     },
     "execution_count": 11,
     "metadata": {},
     "output_type": "execute_result"
    }
   ],
   "source": [
    "def numberconversion(n):\n",
    "    li=[]\n",
    "    while n!=0:\n",
    "        r=n%10\n",
    "        li.append(r)\n",
    "        n=n//10\n",
    "    li.reverse()\n",
    "    return li\n",
    "numberconversion(14569)\n"
   ]
  },
  {
   "cell_type": "code",
   "execution_count": 1,
   "metadata": {},
   "outputs": [
    {
     "data": {
      "text/plain": [
       "2"
      ]
     },
     "execution_count": 1,
     "metadata": {},
     "output_type": "execute_result"
    }
   ],
   "source": [
    "# function to count the occurances of a character in a string \n",
    "# \"python tranning\", p -> 2\n",
    "# \"python programming \"m-> 2\n",
    "def countcharoccurances(s,c):\n",
    "    cnt=0\n",
    "    for ch in s:\n",
    "        if ch == c:\n",
    "            cnt += 1\n",
    "    return cnt\n",
    "countcharoccurances(\"python programming\",'m')"
   ]
  },
  {
   "cell_type": "code",
   "execution_count": 2,
   "metadata": {},
   "outputs": [
    {
     "data": {
      "text/plain": [
       "[1, 2, 3, 4, 5, 6]"
      ]
     },
     "execution_count": 2,
     "metadata": {},
     "output_type": "execute_result"
    }
   ],
   "source": [
    "def stringtolistconversion(s):\n",
    "    li=s.split()\n",
    "    numberslist=[]\n",
    "    for i in li:\n",
    "        numberslist.append(int(i))\n",
    "    return numberslist\n",
    "s = \"1 2 3 4 5 6\"\n",
    "stringtolistconversion(s)"
   ]
  },
  {
   "cell_type": "code",
   "execution_count": 1,
   "metadata": {},
   "outputs": [
    {
     "data": {
      "text/plain": [
       "[1, 3, 6, 18, 19, 25]"
      ]
     },
     "execution_count": 1,
     "metadata": {},
     "output_type": "execute_result"
    }
   ],
   "source": [
    "def bubblesort(li):\n",
    "    for i in range(len(li)-1):\n",
    "            for j in range(len(li)-1):\n",
    "                if li[j]> li[j+1]:\n",
    "                    li[j],li[j+1] = li[j+1],li[j]\n",
    "    return li\n",
    "li =[19,1,25,6,18,3]\n",
    "bubblesort(li)"
   ]
  },
  {
   "cell_type": "markdown",
   "metadata": {},
   "source": [
    "# dictionaries\n",
    "- it works o the concept of set unique data\n",
    "- keys and values are the unique identifire for a value\n",
    "- each key is seperated from its value with colon(:)\n",
    "- each key and value is seperated by a coma(,)\n",
    "- dictionaries enclosed with the curly braces({})\n",
    "\n"
   ]
  },
  {
   "cell_type": "code",
   "execution_count": 2,
   "metadata": {},
   "outputs": [
    {
     "name": "stdout",
     "output_type": "stream",
     "text": [
      "{'roll number': '221810311017', 'section': 'cs -11'}\n"
     ]
    }
   ],
   "source": [
    "d3={\"roll number\":\"221810311017\",\"section\":\"cs -11\"}\n",
    "print(d3)"
   ]
  },
  {
   "cell_type": "code",
   "execution_count": 3,
   "metadata": {},
   "outputs": [
    {
     "name": "stdout",
     "output_type": "stream",
     "text": [
      "{'roll number': '221810311017'}\n"
     ]
    }
   ],
   "source": [
    "del d3['section']\n",
    "print(d3)"
   ]
  },
  {
   "cell_type": "code",
   "execution_count": 4,
   "metadata": {},
   "outputs": [
    {
     "data": {
      "text/plain": [
       "dict_keys(['roll number'])"
      ]
     },
     "execution_count": 4,
     "metadata": {},
     "output_type": "execute_result"
    }
   ],
   "source": [
    "d3.keys()"
   ]
  },
  {
   "cell_type": "code",
   "execution_count": 5,
   "metadata": {},
   "outputs": [
    {
     "data": {
      "text/plain": [
       "dict_values(['221810311017'])"
      ]
     },
     "execution_count": 5,
     "metadata": {},
     "output_type": "execute_result"
    }
   ],
   "source": [
    "d3.values()"
   ]
  },
  {
   "cell_type": "code",
   "execution_count": 6,
   "metadata": {},
   "outputs": [
    {
     "data": {
      "text/plain": [
       "dict_items([('roll number', '221810311017')])"
      ]
     },
     "execution_count": 6,
     "metadata": {},
     "output_type": "execute_result"
    }
   ],
   "source": [
    "d3.items()"
   ]
  },
  {
   "cell_type": "code",
   "execution_count": 7,
   "metadata": {},
   "outputs": [
    {
     "data": {
      "text/plain": [
       "tuple"
      ]
     },
     "execution_count": 7,
     "metadata": {},
     "output_type": "execute_result"
    }
   ],
   "source": [
    "t1=(1,2,3,4,5,6)\n",
    "t1\n",
    "type(t1)"
   ]
  },
  {
   "cell_type": "markdown",
   "metadata": {},
   "source": [
    "### contact application\n",
    "- add tha contact \n",
    "-  search the the contact\n",
    "- list all the contact \n",
    "        * name1: phone1\n",
    "        * name2: phone2\n",
    "-  modify the contact \n",
    "-  remove the contact \n",
    "-  import the contact \n"
   ]
  },
  {
   "cell_type": "code",
   "execution_count": 10,
   "metadata": {},
   "outputs": [
    {
     "name": "stdout",
     "output_type": "stream",
     "text": [
      "contact details are added\n",
      "contact details are added\n",
      "contact details are added\n",
      "contact details are alredy exits\n"
     ]
    }
   ],
   "source": [
    "contacts={}\n",
    "def addcontact(name,phone):\n",
    "    if name not in contacts:\n",
    "        contacts[name]=phone\n",
    "        print(\"contact details are added\")\n",
    "    else:\n",
    "        print(\"contact details are alredy exits\")\n",
    "    return\n",
    "addcontact('rohith','8529637412')\n",
    "addcontact('lokesh','7894561223')\n",
    "addcontact('adil','2587419630')\n",
    "addcontact('rohith','8529637412')\n"
   ]
  },
  {
   "cell_type": "code",
   "execution_count": 11,
   "metadata": {},
   "outputs": [
    {
     "name": "stdout",
     "output_type": "stream",
     "text": [
      "lokesh  :  7894561223\n",
      "kaif does not exist\n",
      "rohith  :  8529637412\n"
     ]
    }
   ],
   "source": [
    "def searchcontact(name):\n",
    "    if name in contacts:\n",
    "        print(name,\" : \",contacts[name])\n",
    "    else:\n",
    "        print(\"%s does not exist\"% name)\n",
    "    return\n",
    "searchcontact('lokesh')\n",
    "searchcontact('kaif')\n",
    "searchcontact('rohith')"
   ]
  },
  {
   "cell_type": "code",
   "execution_count": 12,
   "metadata": {},
   "outputs": [
    {
     "name": "stdout",
     "output_type": "stream",
     "text": [
      "2\n"
     ]
    }
   ],
   "source": [
    "def importcontact(newcontacts):\n",
    "    contacts.update(newcontacts)\n",
    "    print(len(newcontacts.keys())),\n",
    "    return\n",
    "newcontacts = {'dinesh':8574961793,'ajay':6543219874}\n",
    "importcontact(newcontacts)"
   ]
  },
  {
   "cell_type": "code",
   "execution_count": 13,
   "metadata": {},
   "outputs": [
    {
     "name": "stdout",
     "output_type": "stream",
     "text": [
      "ajay delete sucessfully\n"
     ]
    }
   ],
   "source": [
    "def deletecontact(name):\n",
    "    if name in contacts:\n",
    "        del contacts[name]\n",
    "        print(name,\"delete sucessfully\")\n",
    "    else:\n",
    "        print(name,\"not exits\")\n",
    "    return\n",
    "deletecontact('ajay')"
   ]
  },
  {
   "cell_type": "code",
   "execution_count": 1,
   "metadata": {},
   "outputs": [
    {
     "name": "stdout",
     "output_type": "stream",
     "text": [
      "1 2 4 8 16 32 64 128 256 "
     ]
    }
   ],
   "source": [
    "def printGP2(a, r, n):  \n",
    "    print(1, end=\" \")\n",
    "    for i in range(0, n):  \n",
    "        curr_term = a * pow(r, i) \n",
    "        print(curr_term, end =\" \") \n",
    "a = 2 # starting number \n",
    "r = 2 # Common ratio \n",
    "n = 8 # N th term to be find \n",
    "printGP2(a, r, n) \n",
    "\n"
   ]
  },
  {
   "cell_type": "code",
   "execution_count": 3,
   "metadata": {},
   "outputs": [
    {
     "name": "stdout",
     "output_type": "stream",
     "text": [
      "1 3 9 27 81 243 "
     ]
    }
   ],
   "source": [
    "\n",
    "def printGP(a, r, n):  \n",
    "    print(1, end=\" \")\n",
    "    for i in range(0, n):  \n",
    "        curr_term = a * pow(r, i) \n",
    "        print(curr_term, end =\" \") \n",
    "a = 3 # starting number \n",
    "r = 3 # Common ratio \n",
    "n = 5 # N th term to be find \n",
    "  \n",
    "printGP(a, r, n) \n",
    "\n"
   ]
  }
 ],
 "metadata": {
  "kernelspec": {
   "display_name": "Python 3",
   "language": "python",
   "name": "python3"
  },
  "language_info": {
   "codemirror_mode": {
    "name": "ipython",
    "version": 3
   },
   "file_extension": ".py",
   "mimetype": "text/x-python",
   "name": "python",
   "nbconvert_exporter": "python",
   "pygments_lexer": "ipython3",
   "version": "3.7.3"
  }
 },
 "nbformat": 4,
 "nbformat_minor": 2
}
